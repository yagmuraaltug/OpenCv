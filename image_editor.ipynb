{
 "cells": [
  {
   "cell_type": "code",
   "execution_count": 2,
   "metadata": {},
   "outputs": [],
   "source": [
    "import cv2\n",
    "import numpy as np"
   ]
  },
  {
   "cell_type": "code",
   "execution_count": 7,
   "metadata": {},
   "outputs": [],
   "source": [
    "\n",
    "\n",
    "lena = cv2.imread('lena.jpg', 1) #1 for colorful image, 0 for black and white image\n",
    "# for drawing line on the picture\n",
    "cv2.line(lena, (0,0), (400,400), (255,0,0),5)\n",
    "cv2.circle(lena, (200,200), 100, (0,0,255), -1)\n",
    "font = cv2.FONT_HERSHEY_COMPLEX\n",
    "cv2.putText(lena,'Hello', (100,100),font,4, (255,255,255), cv2.LINE_AA)\n",
    "cv2.imshow('image' , lena)\n",
    "\n",
    "cv2.waitKey(10000)\n",
    "cv2.imwrite('lena1.png', lena)\n",
    "cv2.destroyAllWindows()"
   ]
  },
  {
   "cell_type": "code",
   "execution_count": 4,
   "metadata": {},
   "outputs": [],
   "source": [
    "#capturing video from webcam\n",
    "\n",
    "\n",
    "\n",
    "capture = cv2.VideoCapture(0)\n",
    "\n",
    "while(True):\n",
    "\n",
    "    ret, frame = capture.read(0)\n",
    "    gray = cv2.cvtColor(frame, cv2.COLOR_BGR2GRAY)\n",
    "    cv2.imshow('image', gray)\n",
    "\n",
    "    if cv2.waitKey(1) & 0xFF == ord('q'):\n",
    "        break\n",
    "\n",
    "capture.release()\n",
    "cv2.destroyAllWindows()\n"
   ]
  },
  {
   "cell_type": "code",
   "execution_count": 10,
   "metadata": {},
   "outputs": [],
   "source": [
    "# Mouse click action\n",
    "def dram_circle(event, x,y,flag,param):\n",
    "    if event == cv2.EVENT_LBUTTONDBLCLK:\n",
    "        cv2.circle(lena, (x,y), 100, (255,0,0), -1)\n",
    "lena = cv2.imread('lena.jpg', 1)\n",
    "cv2.namedWindow('image')\n",
    "cv2.setMouseCallback('image', dram_circle)\n",
    "\n",
    "while(1):\n",
    "    cv2.imshow('image', lena)\n",
    "    if cv2.waitKey(10) & 0xFF == 27:\n",
    "        break\n",
    "cv2.destroyAllWindows()\n"
   ]
  },
  {
   "cell_type": "code",
   "execution_count": 12,
   "metadata": {},
   "outputs": [
    {
     "name": "stdout",
     "output_type": "stream",
     "text": [
      "(512, 512, 3)\n",
      "786432\n"
     ]
    }
   ],
   "source": [
    "\n",
    "lena = cv2.imread('lena.jpg', 1) #1 for colorful image, 0 for black and white image\n",
    "lena[100,100] = [0,0,0] # 100x100 pixeli siyah yapar\n",
    "print(lena.shape)\n",
    "print(lena.size)\n",
    "cv2.imshow('image' , lena)\n",
    "cv2.waitKey(10000)\n",
    "cv2.destroyAllWindows()"
   ]
  },
  {
   "cell_type": "code",
   "execution_count": 15,
   "metadata": {},
   "outputs": [],
   "source": [
    "image = cv2.imread('lena.jpg',1)\n",
    "a = image[0:100, 0:100]\n",
    "image[100:200,100:200] = a\n",
    "cv2.imshow('image', image)\n",
    "cv2.waitKey(0)\n",
    "cv2.destroyAllWindows()"
   ]
  },
  {
   "cell_type": "code",
   "execution_count": 20,
   "metadata": {},
   "outputs": [],
   "source": [
    "#color\n",
    "\n",
    "image = cv2.imread('blue.jpg')\n",
    "new_image = cv2.cvtColor(image, cv2.COLOR_BGR2HSV)\n",
    "upper_blue = np.array([130,255,255])\n",
    "lower_blue = np.array([110,50,50])\n",
    "mask = cv2.inRange(new_image,lower_blue,upper_blue)\n",
    "res = cv2.bitwise_and(image, image, mask=mask)\n",
    "cv2.imshow('mask', res)\n",
    "cv2.waitKey(0)\n",
    "cv2.destroyAllWindows()"
   ]
  },
  {
   "cell_type": "code",
   "execution_count": 21,
   "metadata": {},
   "outputs": [
    {
     "name": "stdout",
     "output_type": "stream",
     "text": [
      "[[[120 255 255]]]\n"
     ]
    }
   ],
   "source": [
    "#converting to blue\n",
    "\n",
    "blue = np.uint8([[[255,0,0]]])\n",
    "hsv_blue = cv2.cvtColor(blue, cv2.COLOR_BGR2HSV)\n",
    "print(hsv_blue)"
   ]
  },
  {
   "cell_type": "code",
   "execution_count": 5,
   "metadata": {},
   "outputs": [
    {
     "data": {
      "text/plain": [
       "<function destroyAllWindows>"
      ]
     },
     "execution_count": 5,
     "metadata": {},
     "output_type": "execute_result"
    }
   ],
   "source": [
    "#thresholder\n",
    "\n",
    "image = cv2.imread('gradient.png',0)\n",
    "ret, thresh = cv2.threshold(image,127,255,cv2.THRESH_BINARY)  #127 threshold value, #255 max value\n",
    "cv2.imshow('image', image)\n",
    "cv2.imshow('thresh', thresh)\n",
    "cv2.waitKey(10)\n",
    "cv2.destroyAllWindows\n"
   ]
  },
  {
   "cell_type": "code",
   "execution_count": 10,
   "metadata": {},
   "outputs": [],
   "source": [
    "#adaptive thresholding\n",
    "#parameteres : img, max_value, method, block size, constant\n",
    "# method gets 2 values : ADAPTIVE_THRESH_GAUSSIAN_C,ADAPTIVE_THRESH_MEAN_C\n",
    "image = cv2.imread('sample.jpg', 0)\n",
    "thresh = cv2.adaptiveThreshold(image,255, cv2.ADAPTIVE_THRESH_GAUSSIAN_C, cv2.THRESH_BINARY, 11, 20)\n",
    "cv2.imshow('image', image)\n",
    "cv2.imshow('thresh', thresh)\n",
    "cv2.waitKey()\n",
    "cv2.destroyAllWindows()"
   ]
  },
  {
   "cell_type": "code",
   "execution_count": 12,
   "metadata": {},
   "outputs": [],
   "source": [
    "#geometric transformation\n",
    "#resize(image, dst:outputimage, dsize:output image size, fx: scale factor along horizontal image, fy: scale factor along vertical image, interpolation : interpolation method )\n",
    "#tranformation\n",
    "#warpAffine(image, M: transformation matrix, size: size of image, rows and columns)\n",
    "\n",
    "image = cv2.imread('lena.jpg', 0)\n",
    "resize = cv2.resize(image, None, fx=0.5, fy=0.5, interpolation=cv2.INTER_LINEAR)\n",
    "cv2.imshow('image', resize)\n",
    "cv2.waitKey()\n",
    "cv2.destroyAllWindows()"
   ]
  },
  {
   "cell_type": "code",
   "execution_count": 14,
   "metadata": {},
   "outputs": [],
   "source": [
    "image = cv2.imread('lena.jpg', 0)\n",
    "matrix = np.float32(([1,0,100],[0,1,100]))\n",
    "rows, cols = image.shape\n",
    "new_image = cv2.warpAffine(image,matrix,(cols,rows))\n",
    "cv2.imshow('image', new_image)\n",
    "cv2.waitKey()\n",
    "cv2.destroyAllWindows()"
   ]
  },
  {
   "cell_type": "code",
   "execution_count": 15,
   "metadata": {},
   "outputs": [],
   "source": [
    "image = cv2.imread('lena.jpg', 0)\n",
    "rot_matrix = cv2.getRotationMatrix2D((cols/2, rows/2), 90, 1) # /2 gives center\n",
    "rows, cols = image.shape\n",
    "new_image = cv2.warpAffine(image,rot_matrix,(cols,rows))\n",
    "cv2.imshow('image', new_image)\n",
    "cv2.waitKey()\n",
    "cv2.destroyAllWindows()"
   ]
  },
  {
   "cell_type": "code",
   "execution_count": 17,
   "metadata": {},
   "outputs": [],
   "source": [
    "#image bluring\n",
    "\n",
    "image = cv2.imread('train.jpeg', 1)\n",
    "matrix = np.ones((5,5), np.float32)/25 #matrix size 5 and 5\n",
    "new_image = cv2.filter2D(image,-1,matrix)\n",
    "cv2.imshow('image', new_image)\n",
    "cv2.waitKey()\n",
    "cv2.destroyAllWindows()"
   ]
  },
  {
   "cell_type": "code",
   "execution_count": 18,
   "metadata": {},
   "outputs": [],
   "source": [
    "#avering\n",
    "\n",
    "image = cv2.imread('train.jpeg', 1)\n",
    "blur  = cv2.blur(image, (5,5))\n",
    "cv2.imshow('image', blur)\n",
    "cv2.waitKey()\n",
    "cv2.destroyAllWindows()"
   ]
  },
  {
   "cell_type": "code",
   "execution_count": 19,
   "metadata": {},
   "outputs": [],
   "source": [
    "#gaussion\n",
    "\n",
    "image = cv2.imread('train.jpeg', 1)\n",
    "blur  = cv2.blur(image, (5,5))\n",
    "gaussion_blur = cv2.GaussianBlur(image,(5,5),0)\n",
    "cv2.imshow('image', blur)\n",
    "cv2.imshow('gaussion', gaussion_blur)\n",
    "cv2.waitKey()\n",
    "cv2.destroyAllWindows()"
   ]
  },
  {
   "cell_type": "code",
   "execution_count": null,
   "metadata": {},
   "outputs": [],
   "source": []
  }
 ],
 "metadata": {
  "kernelspec": {
   "display_name": "Python 3.9.13 ('data')",
   "language": "python",
   "name": "python3"
  },
  "language_info": {
   "codemirror_mode": {
    "name": "ipython",
    "version": 3
   },
   "file_extension": ".py",
   "mimetype": "text/x-python",
   "name": "python",
   "nbconvert_exporter": "python",
   "pygments_lexer": "ipython3",
   "version": "3.9.13"
  },
  "orig_nbformat": 4,
  "vscode": {
   "interpreter": {
    "hash": "a6e79006c915fed1c2fb53e47cedd18d988034d42751367deb33418988518fa1"
   }
  }
 },
 "nbformat": 4,
 "nbformat_minor": 2
}
